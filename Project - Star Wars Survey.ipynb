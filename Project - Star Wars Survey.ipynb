{
 "cells": [
  {
   "cell_type": "markdown",
   "metadata": {},
   "source": [
    "## Project - Star Wars Survey"
   ]
  },
  {
   "cell_type": "markdown",
   "metadata": {},
   "source": [
    "Before the release of Star Wars: The Force Awakens to come out, the team at FiveThirtyEight became interested in answering some questions about Star Wars fans. In particular, they wondered: \n",
    "- Does the rest of America realize that “The Empire Strikes Back” is clearly the best of the bunch?\n",
    "- Who is the most favourable and unfavourable character?"
   ]
  },
  {
   "cell_type": "markdown",
   "metadata": {},
   "source": [
    "To answer their question, they conducted an survey and received the reply from more than 1100 respondents. \n",
    "<br>In the survey, the respondents answered the followings:\n",
    "- Demograpgic information such as gender, age, location\n",
    "- Preference detail such as how much they like for different episodes and characters "
   ]
  },
  {
   "cell_type": "markdown",
   "metadata": {},
   "source": [
    "## Import the data "
   ]
  },
  {
   "cell_type": "code",
   "execution_count": 1,
   "metadata": {},
   "outputs": [
    {
     "data": {
      "text/html": [
       "<div>\n",
       "<style scoped>\n",
       "    .dataframe tbody tr th:only-of-type {\n",
       "        vertical-align: middle;\n",
       "    }\n",
       "\n",
       "    .dataframe tbody tr th {\n",
       "        vertical-align: top;\n",
       "    }\n",
       "\n",
       "    .dataframe thead tr th {\n",
       "        text-align: left;\n",
       "    }\n",
       "</style>\n",
       "<table border=\"1\" class=\"dataframe\">\n",
       "  <thead>\n",
       "    <tr>\n",
       "      <th></th>\n",
       "      <th>RespondentID</th>\n",
       "      <th>Have you seen any of the 6 films in the Star Wars franchise?</th>\n",
       "      <th>Do you consider yourself to be a fan of the Star Wars film franchise?</th>\n",
       "      <th>Which of the following Star Wars films have you seen? Please select all that apply.</th>\n",
       "      <th>Unnamed: 4_level_0</th>\n",
       "      <th>Unnamed: 5_level_0</th>\n",
       "      <th>Unnamed: 6_level_0</th>\n",
       "      <th>Unnamed: 7_level_0</th>\n",
       "      <th>Unnamed: 8_level_0</th>\n",
       "      <th>Please rank the Star Wars films in order of preference with 1 being your favorite film in the franchise and 6 being your least favorite film.</th>\n",
       "      <th>...</th>\n",
       "      <th>Unnamed: 28_level_0</th>\n",
       "      <th>Which character shot first?</th>\n",
       "      <th>Are you familiar with the Expanded Universe?</th>\n",
       "      <th>Do you consider yourself to be a fan of the Expanded Universe?ÅÃ¦</th>\n",
       "      <th>Do you consider yourself to be a fan of the Star Trek franchise?</th>\n",
       "      <th>Gender</th>\n",
       "      <th>Age</th>\n",
       "      <th>Household Income</th>\n",
       "      <th>Education</th>\n",
       "      <th>Location (Census Region)</th>\n",
       "    </tr>\n",
       "    <tr>\n",
       "      <th></th>\n",
       "      <th>Unnamed: 0_level_1</th>\n",
       "      <th>Response</th>\n",
       "      <th>Response</th>\n",
       "      <th>Star Wars: Episode I  The Phantom Menace</th>\n",
       "      <th>Star Wars: Episode II  Attack of the Clones</th>\n",
       "      <th>Star Wars: Episode III  Revenge of the Sith</th>\n",
       "      <th>Star Wars: Episode IV  A New Hope</th>\n",
       "      <th>Star Wars: Episode V The Empire Strikes Back</th>\n",
       "      <th>Star Wars: Episode VI Return of the Jedi</th>\n",
       "      <th>Star Wars: Episode I  The Phantom Menace</th>\n",
       "      <th>...</th>\n",
       "      <th>Yoda</th>\n",
       "      <th>Response</th>\n",
       "      <th>Response</th>\n",
       "      <th>Response</th>\n",
       "      <th>Response</th>\n",
       "      <th>Response</th>\n",
       "      <th>Response</th>\n",
       "      <th>Response</th>\n",
       "      <th>Response</th>\n",
       "      <th>Response</th>\n",
       "    </tr>\n",
       "  </thead>\n",
       "  <tbody>\n",
       "    <tr>\n",
       "      <td>0</td>\n",
       "      <td>3292879998</td>\n",
       "      <td>Yes</td>\n",
       "      <td>Yes</td>\n",
       "      <td>Star Wars: Episode I  The Phantom Menace</td>\n",
       "      <td>Star Wars: Episode II  Attack of the Clones</td>\n",
       "      <td>Star Wars: Episode III  Revenge of the Sith</td>\n",
       "      <td>Star Wars: Episode IV  A New Hope</td>\n",
       "      <td>Star Wars: Episode V The Empire Strikes Back</td>\n",
       "      <td>Star Wars: Episode VI Return of the Jedi</td>\n",
       "      <td>3.0</td>\n",
       "      <td>...</td>\n",
       "      <td>Very favorably</td>\n",
       "      <td>I don't understand this question</td>\n",
       "      <td>Yes</td>\n",
       "      <td>No</td>\n",
       "      <td>No</td>\n",
       "      <td>Male</td>\n",
       "      <td>18-29</td>\n",
       "      <td>NaN</td>\n",
       "      <td>High school degree</td>\n",
       "      <td>South Atlantic</td>\n",
       "    </tr>\n",
       "    <tr>\n",
       "      <td>1</td>\n",
       "      <td>3292879538</td>\n",
       "      <td>No</td>\n",
       "      <td>NaN</td>\n",
       "      <td>NaN</td>\n",
       "      <td>NaN</td>\n",
       "      <td>NaN</td>\n",
       "      <td>NaN</td>\n",
       "      <td>NaN</td>\n",
       "      <td>NaN</td>\n",
       "      <td>NaN</td>\n",
       "      <td>...</td>\n",
       "      <td>NaN</td>\n",
       "      <td>NaN</td>\n",
       "      <td>NaN</td>\n",
       "      <td>NaN</td>\n",
       "      <td>Yes</td>\n",
       "      <td>Male</td>\n",
       "      <td>18-29</td>\n",
       "      <td>$0 - $24,999</td>\n",
       "      <td>Bachelor degree</td>\n",
       "      <td>West South Central</td>\n",
       "    </tr>\n",
       "    <tr>\n",
       "      <td>2</td>\n",
       "      <td>3292765271</td>\n",
       "      <td>Yes</td>\n",
       "      <td>No</td>\n",
       "      <td>Star Wars: Episode I  The Phantom Menace</td>\n",
       "      <td>Star Wars: Episode II  Attack of the Clones</td>\n",
       "      <td>Star Wars: Episode III  Revenge of the Sith</td>\n",
       "      <td>NaN</td>\n",
       "      <td>NaN</td>\n",
       "      <td>NaN</td>\n",
       "      <td>1.0</td>\n",
       "      <td>...</td>\n",
       "      <td>Unfamiliar (N/A)</td>\n",
       "      <td>I don't understand this question</td>\n",
       "      <td>No</td>\n",
       "      <td>NaN</td>\n",
       "      <td>No</td>\n",
       "      <td>Male</td>\n",
       "      <td>18-29</td>\n",
       "      <td>$0 - $24,999</td>\n",
       "      <td>High school degree</td>\n",
       "      <td>West North Central</td>\n",
       "    </tr>\n",
       "    <tr>\n",
       "      <td>3</td>\n",
       "      <td>3292763116</td>\n",
       "      <td>Yes</td>\n",
       "      <td>Yes</td>\n",
       "      <td>Star Wars: Episode I  The Phantom Menace</td>\n",
       "      <td>Star Wars: Episode II  Attack of the Clones</td>\n",
       "      <td>Star Wars: Episode III  Revenge of the Sith</td>\n",
       "      <td>Star Wars: Episode IV  A New Hope</td>\n",
       "      <td>Star Wars: Episode V The Empire Strikes Back</td>\n",
       "      <td>Star Wars: Episode VI Return of the Jedi</td>\n",
       "      <td>5.0</td>\n",
       "      <td>...</td>\n",
       "      <td>Very favorably</td>\n",
       "      <td>I don't understand this question</td>\n",
       "      <td>No</td>\n",
       "      <td>NaN</td>\n",
       "      <td>Yes</td>\n",
       "      <td>Male</td>\n",
       "      <td>18-29</td>\n",
       "      <td>$100,000 - $149,999</td>\n",
       "      <td>Some college or Associate degree</td>\n",
       "      <td>West North Central</td>\n",
       "    </tr>\n",
       "    <tr>\n",
       "      <td>4</td>\n",
       "      <td>3292731220</td>\n",
       "      <td>Yes</td>\n",
       "      <td>Yes</td>\n",
       "      <td>Star Wars: Episode I  The Phantom Menace</td>\n",
       "      <td>Star Wars: Episode II  Attack of the Clones</td>\n",
       "      <td>Star Wars: Episode III  Revenge of the Sith</td>\n",
       "      <td>Star Wars: Episode IV  A New Hope</td>\n",
       "      <td>Star Wars: Episode V The Empire Strikes Back</td>\n",
       "      <td>Star Wars: Episode VI Return of the Jedi</td>\n",
       "      <td>5.0</td>\n",
       "      <td>...</td>\n",
       "      <td>Somewhat favorably</td>\n",
       "      <td>Greedo</td>\n",
       "      <td>Yes</td>\n",
       "      <td>No</td>\n",
       "      <td>No</td>\n",
       "      <td>Male</td>\n",
       "      <td>18-29</td>\n",
       "      <td>$100,000 - $149,999</td>\n",
       "      <td>Some college or Associate degree</td>\n",
       "      <td>West North Central</td>\n",
       "    </tr>\n",
       "  </tbody>\n",
       "</table>\n",
       "<p>5 rows × 38 columns</p>\n",
       "</div>"
      ],
      "text/plain": [
       "        RespondentID  \\\n",
       "  Unnamed: 0_level_1   \n",
       "0         3292879998   \n",
       "1         3292879538   \n",
       "2         3292765271   \n",
       "3         3292763116   \n",
       "4         3292731220   \n",
       "\n",
       "  Have you seen any of the 6 films in the Star Wars franchise?  \\\n",
       "                                                      Response   \n",
       "0                                                Yes             \n",
       "1                                                 No             \n",
       "2                                                Yes             \n",
       "3                                                Yes             \n",
       "4                                                Yes             \n",
       "\n",
       "  Do you consider yourself to be a fan of the Star Wars film franchise?  \\\n",
       "                                                               Response   \n",
       "0                                                Yes                      \n",
       "1                                                NaN                      \n",
       "2                                                 No                      \n",
       "3                                                Yes                      \n",
       "4                                                Yes                      \n",
       "\n",
       "  Which of the following Star Wars films have you seen? Please select all that apply.  \\\n",
       "                                             Star Wars: Episode I  The Phantom Menace   \n",
       "0           Star Wars: Episode I  The Phantom Menace                                    \n",
       "1                                                NaN                                    \n",
       "2           Star Wars: Episode I  The Phantom Menace                                    \n",
       "3           Star Wars: Episode I  The Phantom Menace                                    \n",
       "4           Star Wars: Episode I  The Phantom Menace                                    \n",
       "\n",
       "                            Unnamed: 4_level_0  \\\n",
       "   Star Wars: Episode II  Attack of the Clones   \n",
       "0  Star Wars: Episode II  Attack of the Clones   \n",
       "1                                          NaN   \n",
       "2  Star Wars: Episode II  Attack of the Clones   \n",
       "3  Star Wars: Episode II  Attack of the Clones   \n",
       "4  Star Wars: Episode II  Attack of the Clones   \n",
       "\n",
       "                            Unnamed: 5_level_0  \\\n",
       "   Star Wars: Episode III  Revenge of the Sith   \n",
       "0  Star Wars: Episode III  Revenge of the Sith   \n",
       "1                                          NaN   \n",
       "2  Star Wars: Episode III  Revenge of the Sith   \n",
       "3  Star Wars: Episode III  Revenge of the Sith   \n",
       "4  Star Wars: Episode III  Revenge of the Sith   \n",
       "\n",
       "                  Unnamed: 6_level_0  \\\n",
       "   Star Wars: Episode IV  A New Hope   \n",
       "0  Star Wars: Episode IV  A New Hope   \n",
       "1                                NaN   \n",
       "2                                NaN   \n",
       "3  Star Wars: Episode IV  A New Hope   \n",
       "4  Star Wars: Episode IV  A New Hope   \n",
       "\n",
       "                             Unnamed: 7_level_0  \\\n",
       "   Star Wars: Episode V The Empire Strikes Back   \n",
       "0  Star Wars: Episode V The Empire Strikes Back   \n",
       "1                                           NaN   \n",
       "2                                           NaN   \n",
       "3  Star Wars: Episode V The Empire Strikes Back   \n",
       "4  Star Wars: Episode V The Empire Strikes Back   \n",
       "\n",
       "                         Unnamed: 8_level_0  \\\n",
       "   Star Wars: Episode VI Return of the Jedi   \n",
       "0  Star Wars: Episode VI Return of the Jedi   \n",
       "1                                       NaN   \n",
       "2                                       NaN   \n",
       "3  Star Wars: Episode VI Return of the Jedi   \n",
       "4  Star Wars: Episode VI Return of the Jedi   \n",
       "\n",
       "  Please rank the Star Wars films in order of preference with 1 being your favorite film in the franchise and 6 being your least favorite film.  \\\n",
       "                                                                                                       Star Wars: Episode I  The Phantom Menace   \n",
       "0                                                3.0                                                                                              \n",
       "1                                                NaN                                                                                              \n",
       "2                                                1.0                                                                                              \n",
       "3                                                5.0                                                                                              \n",
       "4                                                5.0                                                                                              \n",
       "\n",
       "   ... Unnamed: 28_level_0       Which character shot first?  \\\n",
       "   ...                Yoda                          Response   \n",
       "0  ...      Very favorably  I don't understand this question   \n",
       "1  ...                 NaN                               NaN   \n",
       "2  ...    Unfamiliar (N/A)  I don't understand this question   \n",
       "3  ...      Very favorably  I don't understand this question   \n",
       "4  ...  Somewhat favorably                            Greedo   \n",
       "\n",
       "  Are you familiar with the Expanded Universe?  \\\n",
       "                                      Response   \n",
       "0                                          Yes   \n",
       "1                                          NaN   \n",
       "2                                           No   \n",
       "3                                           No   \n",
       "4                                          Yes   \n",
       "\n",
       "  Do you consider yourself to be a fan of the Expanded Universe?ÅÃ¦  \\\n",
       "                                                            Response   \n",
       "0                                                 No                   \n",
       "1                                                NaN                   \n",
       "2                                                NaN                   \n",
       "3                                                NaN                   \n",
       "4                                                 No                   \n",
       "\n",
       "  Do you consider yourself to be a fan of the Star Trek franchise?   Gender  \\\n",
       "                                                          Response Response   \n",
       "0                                                 No                   Male   \n",
       "1                                                Yes                   Male   \n",
       "2                                                 No                   Male   \n",
       "3                                                Yes                   Male   \n",
       "4                                                 No                   Male   \n",
       "\n",
       "       Age     Household Income                         Education  \\\n",
       "  Response             Response                          Response   \n",
       "0    18-29                  NaN                High school degree   \n",
       "1    18-29         $0 - $24,999                   Bachelor degree   \n",
       "2    18-29         $0 - $24,999                High school degree   \n",
       "3    18-29  $100,000 - $149,999  Some college or Associate degree   \n",
       "4    18-29  $100,000 - $149,999  Some college or Associate degree   \n",
       "\n",
       "  Location (Census Region)  \n",
       "                  Response  \n",
       "0           South Atlantic  \n",
       "1       West South Central  \n",
       "2       West North Central  \n",
       "3       West North Central  \n",
       "4       West North Central  \n",
       "\n",
       "[5 rows x 38 columns]"
      ]
     },
     "execution_count": 1,
     "metadata": {},
     "output_type": "execute_result"
    }
   ],
   "source": [
    "import pandas as pd\n",
    "import numpy as np \n",
    "\n",
    "star_wars = pd.read_csv(\"star_wars.csv\", encoding=\"ISO-8859-1\", header=[0,1])\n",
    "star_wars.head()"
   ]
  },
  {
   "cell_type": "markdown",
   "metadata": {},
   "source": [
    "The data is by default with multilevel column names. The level 0 header states the question and the level 1 header states the additional inforamtion such as episodes' names and charachters' name. \n",
    "<br>\n",
    "<br>\n",
    "Since we need both of the information, we can merge the information from both columns and flatten the index."
   ]
  },
  {
   "cell_type": "code",
   "execution_count": 2,
   "metadata": {},
   "outputs": [],
   "source": [
    "header = []\n",
    "\n",
    "for x in range(0,len(star_wars.columns)):\n",
    "    value_0 = star_wars.columns.get_level_values(0)[x]\n",
    "    value_1 = star_wars.columns.get_level_values(1)[x]    \n",
    "    \n",
    "    if (x <=2) or (28 <x <len(star_wars.columns)) :\n",
    "        header.append(value_0)\n",
    "    if 2 < x < 9 :\n",
    "        header.append(f\"Seen_{value_1}\")\n",
    "    if x >=9 and x<= 28:\n",
    "        header.append(f\"Rating_{value_1}\")\n",
    "\n",
    "star_wars.columns = star_wars.columns.to_flat_index()\n",
    "star_wars.columns = header"
   ]
  },
  {
   "cell_type": "code",
   "execution_count": 3,
   "metadata": {},
   "outputs": [
    {
     "data": {
      "text/html": [
       "<div>\n",
       "<style scoped>\n",
       "    .dataframe tbody tr th:only-of-type {\n",
       "        vertical-align: middle;\n",
       "    }\n",
       "\n",
       "    .dataframe tbody tr th {\n",
       "        vertical-align: top;\n",
       "    }\n",
       "\n",
       "    .dataframe thead th {\n",
       "        text-align: right;\n",
       "    }\n",
       "</style>\n",
       "<table border=\"1\" class=\"dataframe\">\n",
       "  <thead>\n",
       "    <tr style=\"text-align: right;\">\n",
       "      <th></th>\n",
       "      <th>RespondentID</th>\n",
       "      <th>Have you seen any of the 6 films in the Star Wars franchise?</th>\n",
       "      <th>Do you consider yourself to be a fan of the Star Wars film franchise?</th>\n",
       "      <th>Seen_Star Wars: Episode I  The Phantom Menace</th>\n",
       "      <th>Seen_Star Wars: Episode II  Attack of the Clones</th>\n",
       "      <th>Seen_Star Wars: Episode III  Revenge of the Sith</th>\n",
       "      <th>Seen_Star Wars: Episode IV  A New Hope</th>\n",
       "      <th>Seen_Star Wars: Episode V The Empire Strikes Back</th>\n",
       "      <th>Seen_Star Wars: Episode VI Return of the Jedi</th>\n",
       "      <th>Rating_Star Wars: Episode I  The Phantom Menace</th>\n",
       "      <th>...</th>\n",
       "      <th>Rating_Yoda</th>\n",
       "      <th>Which character shot first?</th>\n",
       "      <th>Are you familiar with the Expanded Universe?</th>\n",
       "      <th>Do you consider yourself to be a fan of the Expanded Universe?ÅÃ¦</th>\n",
       "      <th>Do you consider yourself to be a fan of the Star Trek franchise?</th>\n",
       "      <th>Gender</th>\n",
       "      <th>Age</th>\n",
       "      <th>Household Income</th>\n",
       "      <th>Education</th>\n",
       "      <th>Location (Census Region)</th>\n",
       "    </tr>\n",
       "  </thead>\n",
       "  <tbody>\n",
       "    <tr>\n",
       "      <td>0</td>\n",
       "      <td>3292879998</td>\n",
       "      <td>Yes</td>\n",
       "      <td>Yes</td>\n",
       "      <td>Star Wars: Episode I  The Phantom Menace</td>\n",
       "      <td>Star Wars: Episode II  Attack of the Clones</td>\n",
       "      <td>Star Wars: Episode III  Revenge of the Sith</td>\n",
       "      <td>Star Wars: Episode IV  A New Hope</td>\n",
       "      <td>Star Wars: Episode V The Empire Strikes Back</td>\n",
       "      <td>Star Wars: Episode VI Return of the Jedi</td>\n",
       "      <td>3.0</td>\n",
       "      <td>...</td>\n",
       "      <td>Very favorably</td>\n",
       "      <td>I don't understand this question</td>\n",
       "      <td>Yes</td>\n",
       "      <td>No</td>\n",
       "      <td>No</td>\n",
       "      <td>Male</td>\n",
       "      <td>18-29</td>\n",
       "      <td>NaN</td>\n",
       "      <td>High school degree</td>\n",
       "      <td>South Atlantic</td>\n",
       "    </tr>\n",
       "    <tr>\n",
       "      <td>1</td>\n",
       "      <td>3292879538</td>\n",
       "      <td>No</td>\n",
       "      <td>NaN</td>\n",
       "      <td>NaN</td>\n",
       "      <td>NaN</td>\n",
       "      <td>NaN</td>\n",
       "      <td>NaN</td>\n",
       "      <td>NaN</td>\n",
       "      <td>NaN</td>\n",
       "      <td>NaN</td>\n",
       "      <td>...</td>\n",
       "      <td>NaN</td>\n",
       "      <td>NaN</td>\n",
       "      <td>NaN</td>\n",
       "      <td>NaN</td>\n",
       "      <td>Yes</td>\n",
       "      <td>Male</td>\n",
       "      <td>18-29</td>\n",
       "      <td>$0 - $24,999</td>\n",
       "      <td>Bachelor degree</td>\n",
       "      <td>West South Central</td>\n",
       "    </tr>\n",
       "    <tr>\n",
       "      <td>2</td>\n",
       "      <td>3292765271</td>\n",
       "      <td>Yes</td>\n",
       "      <td>No</td>\n",
       "      <td>Star Wars: Episode I  The Phantom Menace</td>\n",
       "      <td>Star Wars: Episode II  Attack of the Clones</td>\n",
       "      <td>Star Wars: Episode III  Revenge of the Sith</td>\n",
       "      <td>NaN</td>\n",
       "      <td>NaN</td>\n",
       "      <td>NaN</td>\n",
       "      <td>1.0</td>\n",
       "      <td>...</td>\n",
       "      <td>Unfamiliar (N/A)</td>\n",
       "      <td>I don't understand this question</td>\n",
       "      <td>No</td>\n",
       "      <td>NaN</td>\n",
       "      <td>No</td>\n",
       "      <td>Male</td>\n",
       "      <td>18-29</td>\n",
       "      <td>$0 - $24,999</td>\n",
       "      <td>High school degree</td>\n",
       "      <td>West North Central</td>\n",
       "    </tr>\n",
       "    <tr>\n",
       "      <td>3</td>\n",
       "      <td>3292763116</td>\n",
       "      <td>Yes</td>\n",
       "      <td>Yes</td>\n",
       "      <td>Star Wars: Episode I  The Phantom Menace</td>\n",
       "      <td>Star Wars: Episode II  Attack of the Clones</td>\n",
       "      <td>Star Wars: Episode III  Revenge of the Sith</td>\n",
       "      <td>Star Wars: Episode IV  A New Hope</td>\n",
       "      <td>Star Wars: Episode V The Empire Strikes Back</td>\n",
       "      <td>Star Wars: Episode VI Return of the Jedi</td>\n",
       "      <td>5.0</td>\n",
       "      <td>...</td>\n",
       "      <td>Very favorably</td>\n",
       "      <td>I don't understand this question</td>\n",
       "      <td>No</td>\n",
       "      <td>NaN</td>\n",
       "      <td>Yes</td>\n",
       "      <td>Male</td>\n",
       "      <td>18-29</td>\n",
       "      <td>$100,000 - $149,999</td>\n",
       "      <td>Some college or Associate degree</td>\n",
       "      <td>West North Central</td>\n",
       "    </tr>\n",
       "    <tr>\n",
       "      <td>4</td>\n",
       "      <td>3292731220</td>\n",
       "      <td>Yes</td>\n",
       "      <td>Yes</td>\n",
       "      <td>Star Wars: Episode I  The Phantom Menace</td>\n",
       "      <td>Star Wars: Episode II  Attack of the Clones</td>\n",
       "      <td>Star Wars: Episode III  Revenge of the Sith</td>\n",
       "      <td>Star Wars: Episode IV  A New Hope</td>\n",
       "      <td>Star Wars: Episode V The Empire Strikes Back</td>\n",
       "      <td>Star Wars: Episode VI Return of the Jedi</td>\n",
       "      <td>5.0</td>\n",
       "      <td>...</td>\n",
       "      <td>Somewhat favorably</td>\n",
       "      <td>Greedo</td>\n",
       "      <td>Yes</td>\n",
       "      <td>No</td>\n",
       "      <td>No</td>\n",
       "      <td>Male</td>\n",
       "      <td>18-29</td>\n",
       "      <td>$100,000 - $149,999</td>\n",
       "      <td>Some college or Associate degree</td>\n",
       "      <td>West North Central</td>\n",
       "    </tr>\n",
       "  </tbody>\n",
       "</table>\n",
       "<p>5 rows × 38 columns</p>\n",
       "</div>"
      ],
      "text/plain": [
       "   RespondentID Have you seen any of the 6 films in the Star Wars franchise?  \\\n",
       "0    3292879998                                                Yes             \n",
       "1    3292879538                                                 No             \n",
       "2    3292765271                                                Yes             \n",
       "3    3292763116                                                Yes             \n",
       "4    3292731220                                                Yes             \n",
       "\n",
       "  Do you consider yourself to be a fan of the Star Wars film franchise?  \\\n",
       "0                                                Yes                      \n",
       "1                                                NaN                      \n",
       "2                                                 No                      \n",
       "3                                                Yes                      \n",
       "4                                                Yes                      \n",
       "\n",
       "  Seen_Star Wars: Episode I  The Phantom Menace  \\\n",
       "0      Star Wars: Episode I  The Phantom Menace   \n",
       "1                                           NaN   \n",
       "2      Star Wars: Episode I  The Phantom Menace   \n",
       "3      Star Wars: Episode I  The Phantom Menace   \n",
       "4      Star Wars: Episode I  The Phantom Menace   \n",
       "\n",
       "  Seen_Star Wars: Episode II  Attack of the Clones  \\\n",
       "0      Star Wars: Episode II  Attack of the Clones   \n",
       "1                                              NaN   \n",
       "2      Star Wars: Episode II  Attack of the Clones   \n",
       "3      Star Wars: Episode II  Attack of the Clones   \n",
       "4      Star Wars: Episode II  Attack of the Clones   \n",
       "\n",
       "  Seen_Star Wars: Episode III  Revenge of the Sith  \\\n",
       "0      Star Wars: Episode III  Revenge of the Sith   \n",
       "1                                              NaN   \n",
       "2      Star Wars: Episode III  Revenge of the Sith   \n",
       "3      Star Wars: Episode III  Revenge of the Sith   \n",
       "4      Star Wars: Episode III  Revenge of the Sith   \n",
       "\n",
       "  Seen_Star Wars: Episode IV  A New Hope  \\\n",
       "0      Star Wars: Episode IV  A New Hope   \n",
       "1                                    NaN   \n",
       "2                                    NaN   \n",
       "3      Star Wars: Episode IV  A New Hope   \n",
       "4      Star Wars: Episode IV  A New Hope   \n",
       "\n",
       "  Seen_Star Wars: Episode V The Empire Strikes Back  \\\n",
       "0      Star Wars: Episode V The Empire Strikes Back   \n",
       "1                                               NaN   \n",
       "2                                               NaN   \n",
       "3      Star Wars: Episode V The Empire Strikes Back   \n",
       "4      Star Wars: Episode V The Empire Strikes Back   \n",
       "\n",
       "  Seen_Star Wars: Episode VI Return of the Jedi  \\\n",
       "0      Star Wars: Episode VI Return of the Jedi   \n",
       "1                                           NaN   \n",
       "2                                           NaN   \n",
       "3      Star Wars: Episode VI Return of the Jedi   \n",
       "4      Star Wars: Episode VI Return of the Jedi   \n",
       "\n",
       "   Rating_Star Wars: Episode I  The Phantom Menace  ...         Rating_Yoda  \\\n",
       "0                                              3.0  ...      Very favorably   \n",
       "1                                              NaN  ...                 NaN   \n",
       "2                                              1.0  ...    Unfamiliar (N/A)   \n",
       "3                                              5.0  ...      Very favorably   \n",
       "4                                              5.0  ...  Somewhat favorably   \n",
       "\n",
       "        Which character shot first?  \\\n",
       "0  I don't understand this question   \n",
       "1                               NaN   \n",
       "2  I don't understand this question   \n",
       "3  I don't understand this question   \n",
       "4                            Greedo   \n",
       "\n",
       "   Are you familiar with the Expanded Universe?  \\\n",
       "0                                           Yes   \n",
       "1                                           NaN   \n",
       "2                                            No   \n",
       "3                                            No   \n",
       "4                                           Yes   \n",
       "\n",
       "   Do you consider yourself to be a fan of the Expanded Universe?ÅÃ¦  \\\n",
       "0                                                 No                    \n",
       "1                                                NaN                    \n",
       "2                                                NaN                    \n",
       "3                                                NaN                    \n",
       "4                                                 No                    \n",
       "\n",
       "   Do you consider yourself to be a fan of the Star Trek franchise? Gender  \\\n",
       "0                                                 No                  Male   \n",
       "1                                                Yes                  Male   \n",
       "2                                                 No                  Male   \n",
       "3                                                Yes                  Male   \n",
       "4                                                 No                  Male   \n",
       "\n",
       "     Age     Household Income                         Education  \\\n",
       "0  18-29                  NaN                High school degree   \n",
       "1  18-29         $0 - $24,999                   Bachelor degree   \n",
       "2  18-29         $0 - $24,999                High school degree   \n",
       "3  18-29  $100,000 - $149,999  Some college or Associate degree   \n",
       "4  18-29  $100,000 - $149,999  Some college or Associate degree   \n",
       "\n",
       "  Location (Census Region)  \n",
       "0           South Atlantic  \n",
       "1       West South Central  \n",
       "2       West North Central  \n",
       "3       West North Central  \n",
       "4       West North Central  \n",
       "\n",
       "[5 rows x 38 columns]"
      ]
     },
     "execution_count": 3,
     "metadata": {},
     "output_type": "execute_result"
    }
   ],
   "source": [
    "star_wars.head()"
   ]
  },
  {
   "cell_type": "markdown",
   "metadata": {},
   "source": [
    "The updated columns are as follows:"
   ]
  },
  {
   "cell_type": "code",
   "execution_count": 4,
   "metadata": {},
   "outputs": [
    {
     "name": "stdout",
     "output_type": "stream",
     "text": [
      "<class 'pandas.core.frame.DataFrame'>\n",
      "RangeIndex: 1186 entries, 0 to 1185\n",
      "Data columns (total 38 columns):\n",
      "RespondentID                                                             1186 non-null int64\n",
      "Have you seen any of the 6 films in the Star Wars franchise?             1186 non-null object\n",
      "Do you consider yourself to be a fan of the Star Wars film franchise?    836 non-null object\n",
      "Seen_Star Wars: Episode I  The Phantom Menace                            673 non-null object\n",
      "Seen_Star Wars: Episode II  Attack of the Clones                         571 non-null object\n",
      "Seen_Star Wars: Episode III  Revenge of the Sith                         550 non-null object\n",
      "Seen_Star Wars: Episode IV  A New Hope                                   607 non-null object\n",
      "Seen_Star Wars: Episode V The Empire Strikes Back                        758 non-null object\n",
      "Seen_Star Wars: Episode VI Return of the Jedi                            738 non-null object\n",
      "Rating_Star Wars: Episode I  The Phantom Menace                          835 non-null float64\n",
      "Rating_Star Wars: Episode II  Attack of the Clones                       836 non-null float64\n",
      "Rating_Star Wars: Episode III  Revenge of the Sith                       835 non-null float64\n",
      "Rating_Star Wars: Episode IV  A New Hope                                 836 non-null float64\n",
      "Rating_Star Wars: Episode V The Empire Strikes Back                      836 non-null float64\n",
      "Rating_Star Wars: Episode VI Return of the Jedi                          836 non-null float64\n",
      "Rating_Han Solo                                                          829 non-null object\n",
      "Rating_Luke Skywalker                                                    831 non-null object\n",
      "Rating_Princess Leia Organa                                              831 non-null object\n",
      "Rating_Anakin Skywalker                                                  823 non-null object\n",
      "Rating_Obi Wan Kenobi                                                    825 non-null object\n",
      "Rating_Emperor Palpatine                                                 814 non-null object\n",
      "Rating_Darth Vader                                                       826 non-null object\n",
      "Rating_Lando Calrissian                                                  820 non-null object\n",
      "Rating_Boba Fett                                                         812 non-null object\n",
      "Rating_C-3P0                                                             827 non-null object\n",
      "Rating_R2 D2                                                             830 non-null object\n",
      "Rating_Jar Jar Binks                                                     821 non-null object\n",
      "Rating_Padme Amidala                                                     814 non-null object\n",
      "Rating_Yoda                                                              826 non-null object\n",
      "Which character shot first?                                              828 non-null object\n",
      "Are you familiar with the Expanded Universe?                             828 non-null object\n",
      "Do you consider yourself to be a fan of the Expanded Universe?ÅÃ¦       213 non-null object\n",
      "Do you consider yourself to be a fan of the Star Trek franchise?         1068 non-null object\n",
      "Gender                                                                   1046 non-null object\n",
      "Age                                                                      1046 non-null object\n",
      "Household Income                                                         858 non-null object\n",
      "Education                                                                1036 non-null object\n",
      "Location (Census Region)                                                 1043 non-null object\n",
      "dtypes: float64(6), int64(1), object(31)\n",
      "memory usage: 352.2+ KB\n"
     ]
    }
   ],
   "source": [
    "star_wars.info()"
   ]
  },
  {
   "cell_type": "markdown",
   "metadata": {},
   "source": [
    "## Clean the data "
   ]
  },
  {
   "cell_type": "markdown",
   "metadata": {},
   "source": [
    "There are couple of things that we need to change in the data for further analysis: \n",
    "- Convert the string columns which contains values True/False into boolean\n",
    "- Convert ratings from string to float "
   ]
  },
  {
   "cell_type": "markdown",
   "metadata": {},
   "source": [
    "### Convert the string columns which contains values True/False into boolean"
   ]
  },
  {
   "cell_type": "markdown",
   "metadata": {},
   "source": [
    "First the first 9 columns, all the columns are in string format except RespondentId. At the same time the values in all of these columns are True/False or Yes/No. \n",
    "<br>\n",
    "<br>\n",
    "They can be converted into boolean values which only the values True, False, and NaN. In general, Booleans are easier to work with because we can select the rows that are True or False without having to do a string comparison. Therefore we will convert the values in those columns: "
   ]
  },
  {
   "cell_type": "code",
   "execution_count": 5,
   "metadata": {},
   "outputs": [],
   "source": [
    "# Convert column 2 and 3 \n",
    "yes_no = {\n",
    "    \"Yes\": True,\n",
    "    \"No\": False\n",
    "}\n",
    "\n",
    "star_wars['Have you seen any of the 6 films in the Star Wars franchise?'] = star_wars['Have you seen any of the 6 films in the Star Wars franchise?'].map(yes_no)\n",
    "star_wars['Do you consider yourself to be a fan of the Star Wars film franchise?'] = star_wars['Do you consider yourself to be a fan of the Star Wars film franchise?'].map(yes_no)"
   ]
  },
  {
   "cell_type": "code",
   "execution_count": 6,
   "metadata": {},
   "outputs": [],
   "source": [
    "# Convert columns related to Seen_Star Wars\n",
    "def true_false(ele):\n",
    "    if ele is np.nan:\n",
    "        return False\n",
    "    else:\n",
    "        return True\n",
    "      \n",
    "for i in range(3,9):    \n",
    "    star_wars.iloc[:,i] = star_wars.iloc[:,i].apply(true_false)"
   ]
  },
  {
   "cell_type": "markdown",
   "metadata": {},
   "source": [
    "For columns with Rating_Star Wars, the columns are already in the right type and therefore we can keep it as it is:\n",
    "<br>\n",
    "<br>\n",
    "For columns with Rating_characters, it is originally in string format with the following values: \n",
    "- Very favorably\n",
    "- Somewhat favorably\n",
    "- Neither favorably nor unfavorably (neutral)\n",
    "- Somewhat unfavorably\n",
    "- Very unfavorably\n",
    "- Unfamiliar (N/A)"
   ]
  },
  {
   "cell_type": "markdown",
   "metadata": {},
   "source": [
    "We can convert those valuse into int value so as to calculate the favourite level in later stage."
   ]
  },
  {
   "cell_type": "code",
   "execution_count": 7,
   "metadata": {},
   "outputs": [],
   "source": [
    "rating = {\n",
    "    \"Very favorably\": 5,\n",
    "    \"Somewhat favorably\": 4,\n",
    "    \"Neither favorably nor unfavorably (neutral)\": 3,\n",
    "    \"Somewhat unfavorably\": 2,\n",
    "    \"Very unfavorably\": 1,\n",
    "    \"Unfamiliar (N/A)\": np.nan,\n",
    "}\n",
    "\n",
    "for col in star_wars.columns[15:29]:\n",
    "    star_wars[col] = star_wars[col].map(rating)"
   ]
  },
  {
   "cell_type": "markdown",
   "metadata": {},
   "source": [
    "Now the data is cleaned and we can start analyzing"
   ]
  },
  {
   "cell_type": "code",
   "execution_count": 8,
   "metadata": {},
   "outputs": [
    {
     "data": {
      "text/html": [
       "<div>\n",
       "<style scoped>\n",
       "    .dataframe tbody tr th:only-of-type {\n",
       "        vertical-align: middle;\n",
       "    }\n",
       "\n",
       "    .dataframe tbody tr th {\n",
       "        vertical-align: top;\n",
       "    }\n",
       "\n",
       "    .dataframe thead th {\n",
       "        text-align: right;\n",
       "    }\n",
       "</style>\n",
       "<table border=\"1\" class=\"dataframe\">\n",
       "  <thead>\n",
       "    <tr style=\"text-align: right;\">\n",
       "      <th></th>\n",
       "      <th>RespondentID</th>\n",
       "      <th>Have you seen any of the 6 films in the Star Wars franchise?</th>\n",
       "      <th>Do you consider yourself to be a fan of the Star Wars film franchise?</th>\n",
       "      <th>Seen_Star Wars: Episode I  The Phantom Menace</th>\n",
       "      <th>Seen_Star Wars: Episode II  Attack of the Clones</th>\n",
       "      <th>Seen_Star Wars: Episode III  Revenge of the Sith</th>\n",
       "      <th>Seen_Star Wars: Episode IV  A New Hope</th>\n",
       "      <th>Seen_Star Wars: Episode V The Empire Strikes Back</th>\n",
       "      <th>Seen_Star Wars: Episode VI Return of the Jedi</th>\n",
       "      <th>Rating_Star Wars: Episode I  The Phantom Menace</th>\n",
       "      <th>...</th>\n",
       "      <th>Rating_Yoda</th>\n",
       "      <th>Which character shot first?</th>\n",
       "      <th>Are you familiar with the Expanded Universe?</th>\n",
       "      <th>Do you consider yourself to be a fan of the Expanded Universe?ÅÃ¦</th>\n",
       "      <th>Do you consider yourself to be a fan of the Star Trek franchise?</th>\n",
       "      <th>Gender</th>\n",
       "      <th>Age</th>\n",
       "      <th>Household Income</th>\n",
       "      <th>Education</th>\n",
       "      <th>Location (Census Region)</th>\n",
       "    </tr>\n",
       "  </thead>\n",
       "  <tbody>\n",
       "    <tr>\n",
       "      <td>0</td>\n",
       "      <td>3292879998</td>\n",
       "      <td>True</td>\n",
       "      <td>True</td>\n",
       "      <td>True</td>\n",
       "      <td>True</td>\n",
       "      <td>True</td>\n",
       "      <td>True</td>\n",
       "      <td>True</td>\n",
       "      <td>True</td>\n",
       "      <td>3.0</td>\n",
       "      <td>...</td>\n",
       "      <td>5.0</td>\n",
       "      <td>I don't understand this question</td>\n",
       "      <td>Yes</td>\n",
       "      <td>No</td>\n",
       "      <td>No</td>\n",
       "      <td>Male</td>\n",
       "      <td>18-29</td>\n",
       "      <td>NaN</td>\n",
       "      <td>High school degree</td>\n",
       "      <td>South Atlantic</td>\n",
       "    </tr>\n",
       "    <tr>\n",
       "      <td>1</td>\n",
       "      <td>3292879538</td>\n",
       "      <td>False</td>\n",
       "      <td>NaN</td>\n",
       "      <td>False</td>\n",
       "      <td>False</td>\n",
       "      <td>False</td>\n",
       "      <td>False</td>\n",
       "      <td>False</td>\n",
       "      <td>False</td>\n",
       "      <td>NaN</td>\n",
       "      <td>...</td>\n",
       "      <td>NaN</td>\n",
       "      <td>NaN</td>\n",
       "      <td>NaN</td>\n",
       "      <td>NaN</td>\n",
       "      <td>Yes</td>\n",
       "      <td>Male</td>\n",
       "      <td>18-29</td>\n",
       "      <td>$0 - $24,999</td>\n",
       "      <td>Bachelor degree</td>\n",
       "      <td>West South Central</td>\n",
       "    </tr>\n",
       "    <tr>\n",
       "      <td>2</td>\n",
       "      <td>3292765271</td>\n",
       "      <td>True</td>\n",
       "      <td>False</td>\n",
       "      <td>True</td>\n",
       "      <td>True</td>\n",
       "      <td>True</td>\n",
       "      <td>False</td>\n",
       "      <td>False</td>\n",
       "      <td>False</td>\n",
       "      <td>1.0</td>\n",
       "      <td>...</td>\n",
       "      <td>NaN</td>\n",
       "      <td>I don't understand this question</td>\n",
       "      <td>No</td>\n",
       "      <td>NaN</td>\n",
       "      <td>No</td>\n",
       "      <td>Male</td>\n",
       "      <td>18-29</td>\n",
       "      <td>$0 - $24,999</td>\n",
       "      <td>High school degree</td>\n",
       "      <td>West North Central</td>\n",
       "    </tr>\n",
       "    <tr>\n",
       "      <td>3</td>\n",
       "      <td>3292763116</td>\n",
       "      <td>True</td>\n",
       "      <td>True</td>\n",
       "      <td>True</td>\n",
       "      <td>True</td>\n",
       "      <td>True</td>\n",
       "      <td>True</td>\n",
       "      <td>True</td>\n",
       "      <td>True</td>\n",
       "      <td>5.0</td>\n",
       "      <td>...</td>\n",
       "      <td>5.0</td>\n",
       "      <td>I don't understand this question</td>\n",
       "      <td>No</td>\n",
       "      <td>NaN</td>\n",
       "      <td>Yes</td>\n",
       "      <td>Male</td>\n",
       "      <td>18-29</td>\n",
       "      <td>$100,000 - $149,999</td>\n",
       "      <td>Some college or Associate degree</td>\n",
       "      <td>West North Central</td>\n",
       "    </tr>\n",
       "    <tr>\n",
       "      <td>4</td>\n",
       "      <td>3292731220</td>\n",
       "      <td>True</td>\n",
       "      <td>True</td>\n",
       "      <td>True</td>\n",
       "      <td>True</td>\n",
       "      <td>True</td>\n",
       "      <td>True</td>\n",
       "      <td>True</td>\n",
       "      <td>True</td>\n",
       "      <td>5.0</td>\n",
       "      <td>...</td>\n",
       "      <td>4.0</td>\n",
       "      <td>Greedo</td>\n",
       "      <td>Yes</td>\n",
       "      <td>No</td>\n",
       "      <td>No</td>\n",
       "      <td>Male</td>\n",
       "      <td>18-29</td>\n",
       "      <td>$100,000 - $149,999</td>\n",
       "      <td>Some college or Associate degree</td>\n",
       "      <td>West North Central</td>\n",
       "    </tr>\n",
       "  </tbody>\n",
       "</table>\n",
       "<p>5 rows × 38 columns</p>\n",
       "</div>"
      ],
      "text/plain": [
       "   RespondentID  Have you seen any of the 6 films in the Star Wars franchise?  \\\n",
       "0    3292879998                                               True              \n",
       "1    3292879538                                              False              \n",
       "2    3292765271                                               True              \n",
       "3    3292763116                                               True              \n",
       "4    3292731220                                               True              \n",
       "\n",
       "  Do you consider yourself to be a fan of the Star Wars film franchise?  \\\n",
       "0                                               True                      \n",
       "1                                                NaN                      \n",
       "2                                              False                      \n",
       "3                                               True                      \n",
       "4                                               True                      \n",
       "\n",
       "   Seen_Star Wars: Episode I  The Phantom Menace  \\\n",
       "0                                           True   \n",
       "1                                          False   \n",
       "2                                           True   \n",
       "3                                           True   \n",
       "4                                           True   \n",
       "\n",
       "   Seen_Star Wars: Episode II  Attack of the Clones  \\\n",
       "0                                              True   \n",
       "1                                             False   \n",
       "2                                              True   \n",
       "3                                              True   \n",
       "4                                              True   \n",
       "\n",
       "   Seen_Star Wars: Episode III  Revenge of the Sith  \\\n",
       "0                                              True   \n",
       "1                                             False   \n",
       "2                                              True   \n",
       "3                                              True   \n",
       "4                                              True   \n",
       "\n",
       "   Seen_Star Wars: Episode IV  A New Hope  \\\n",
       "0                                    True   \n",
       "1                                   False   \n",
       "2                                   False   \n",
       "3                                    True   \n",
       "4                                    True   \n",
       "\n",
       "   Seen_Star Wars: Episode V The Empire Strikes Back  \\\n",
       "0                                               True   \n",
       "1                                              False   \n",
       "2                                              False   \n",
       "3                                               True   \n",
       "4                                               True   \n",
       "\n",
       "   Seen_Star Wars: Episode VI Return of the Jedi  \\\n",
       "0                                           True   \n",
       "1                                          False   \n",
       "2                                          False   \n",
       "3                                           True   \n",
       "4                                           True   \n",
       "\n",
       "   Rating_Star Wars: Episode I  The Phantom Menace  ...  Rating_Yoda  \\\n",
       "0                                              3.0  ...          5.0   \n",
       "1                                              NaN  ...          NaN   \n",
       "2                                              1.0  ...          NaN   \n",
       "3                                              5.0  ...          5.0   \n",
       "4                                              5.0  ...          4.0   \n",
       "\n",
       "        Which character shot first?  \\\n",
       "0  I don't understand this question   \n",
       "1                               NaN   \n",
       "2  I don't understand this question   \n",
       "3  I don't understand this question   \n",
       "4                            Greedo   \n",
       "\n",
       "   Are you familiar with the Expanded Universe?  \\\n",
       "0                                           Yes   \n",
       "1                                           NaN   \n",
       "2                                            No   \n",
       "3                                            No   \n",
       "4                                           Yes   \n",
       "\n",
       "   Do you consider yourself to be a fan of the Expanded Universe?ÅÃ¦  \\\n",
       "0                                                 No                    \n",
       "1                                                NaN                    \n",
       "2                                                NaN                    \n",
       "3                                                NaN                    \n",
       "4                                                 No                    \n",
       "\n",
       "   Do you consider yourself to be a fan of the Star Trek franchise?  Gender  \\\n",
       "0                                                 No                   Male   \n",
       "1                                                Yes                   Male   \n",
       "2                                                 No                   Male   \n",
       "3                                                Yes                   Male   \n",
       "4                                                 No                   Male   \n",
       "\n",
       "     Age     Household Income                         Education  \\\n",
       "0  18-29                  NaN                High school degree   \n",
       "1  18-29         $0 - $24,999                   Bachelor degree   \n",
       "2  18-29         $0 - $24,999                High school degree   \n",
       "3  18-29  $100,000 - $149,999  Some college or Associate degree   \n",
       "4  18-29  $100,000 - $149,999  Some college or Associate degree   \n",
       "\n",
       "   Location (Census Region)  \n",
       "0            South Atlantic  \n",
       "1        West South Central  \n",
       "2        West North Central  \n",
       "3        West North Central  \n",
       "4        West North Central  \n",
       "\n",
       "[5 rows x 38 columns]"
      ]
     },
     "execution_count": 8,
     "metadata": {},
     "output_type": "execute_result"
    }
   ],
   "source": [
    "star_wars.head(5)"
   ]
  },
  {
   "cell_type": "markdown",
   "metadata": {},
   "source": [
    "## Initial Analysis - Respondents' demographic information"
   ]
  },
  {
   "cell_type": "code",
   "execution_count": 9,
   "metadata": {},
   "outputs": [],
   "source": [
    "import matplotlib.pyplot as plt\n",
    "\n",
    "# Respondents by genders\n",
    "star_wars['Gender'].value_counts().plot(kind='bar');"
   ]
  },
  {
   "cell_type": "code",
   "execution_count": 10,
   "metadata": {},
   "outputs": [
    {
     "data": {
      "image/png": "[encoded data removed]",
      "text/plain": [
       "<Figure size 432x288 with 1 Axes>"
      ]
     },
     "metadata": {
      "needs_background": "light"
     },
     "output_type": "display_data"
    }
   ],
   "source": [
    "# Respondents by age groups\n",
    "star_wars['Age'].value_counts().plot(kind='bar');"
   ]
  },
  {
   "cell_type": "code",
   "execution_count": 11,
   "metadata": {},
   "outputs": [
    {
     "data": {
      "text/plain": [
       "East North Central    181\n",
       "Pacific               175\n",
       "South Atlantic        170\n",
       "Middle Atlantic       122\n",
       "West South Central    110\n",
       "West North Central     93\n",
       "Mountain               79\n",
       "New England            75\n",
       "East South Central     38\n",
       "Name: Location (Census Region), dtype: int64"
      ]
     },
     "execution_count": 11,
     "metadata": {},
     "output_type": "execute_result"
    }
   ],
   "source": [
    "#Respondents by location\n",
    "star_wars['Location (Census Region)'].value_counts()"
   ]
  },
  {
   "cell_type": "markdown",
   "metadata": {},
   "source": [
    "From the result above, we know that the no.of female respondents are slightly more than the male respondents, and most of the respondents are in middle-ages or above. Besides, they are from different parts in US."
   ]
  },
  {
   "cell_type": "markdown",
   "metadata": {},
   "source": [
    "## Analysis - The degree of favourite in Star Wars episodes"
   ]
  },
  {
   "cell_type": "code",
   "execution_count": 12,
   "metadata": {},
   "outputs": [
    {
     "data": {
      "text/plain": [
       "True     936\n",
       "False    250\n",
       "Name: Have you seen any of the 6 films in the Star Wars franchise?, dtype: int64"
      ]
     },
     "execution_count": 12,
     "metadata": {},
     "output_type": "execute_result"
    }
   ],
   "source": [
    "star_wars['Have you seen any of the 6 films in the Star Wars franchise?'].value_counts()"
   ]
  },
  {
   "cell_type": "code",
   "execution_count": 13,
   "metadata": {},
   "outputs": [
    {
     "data": {
      "image/png": "[encoded data removed]",
      "text/plain": [
       "<Figure size 432x288 with 1 Axes>"
      ]
     },
     "metadata": {
      "needs_background": "light"
     },
     "output_type": "display_data"
    }
   ],
   "source": [
    "star_wars['Do you consider yourself to be a fan of the Star Wars film franchise?'].value_counts().plot(kind='bar');"
   ]
  },
  {
   "cell_type": "markdown",
   "metadata": {},
   "source": [
    "Among more than 1100 respodents, more than 80% of them have watched at least 1 Star Wars episode and around 550 of them claimed that they are a fan for Star Wars. "
   ]
  },
  {
   "cell_type": "code",
   "execution_count": 14,
   "metadata": {},
   "outputs": [
    {
     "data": {
      "image/png": "[encoded data removed]",
      "text/plain": [
       "<Figure size 432x288 with 1 Axes>"
      ]
     },
     "metadata": {
      "needs_background": "light"
     },
     "output_type": "display_data"
    }
   ],
   "source": [
    "# Number of audiences for each episodes\n",
    "sums = star_wars[star_wars.columns[3:9]].sum()\n",
    "plt.bar(range(1,7), sums)\n",
    "plt.xlabel(\"Movie #\")\n",
    "plt.ylabel('Total Respondants');"
   ]
  },
  {
   "cell_type": "code",
   "execution_count": 15,
   "metadata": {},
   "outputs": [
    {
     "data": {
      "text/plain": [
       "Text(0, 0.5, 'Average Ranking')"
      ]
     },
     "execution_count": 15,
     "metadata": {},
     "output_type": "execute_result"
    },
    {
     "data": {
      "image/png": "[encoded data removed]",
      "text/plain": [
       "<Figure size 432x288 with 1 Axes>"
      ]
     },
     "metadata": {
      "needs_background": "light"
     },
     "output_type": "display_data"
    }
   ],
   "source": [
    "#Average ranking for each episodes\n",
    "means = star_wars[star_wars.columns[9:15]].mean()\n",
    "%matplotlib inline\n",
    "plt.bar(range(1,7), means)\n",
    "plt.xlabel(\"Movie #\")\n",
    "plt.ylabel('Average Ranking')"
   ]
  },
  {
   "cell_type": "markdown",
   "metadata": {},
   "source": [
    "We can further break down the result by gender"
   ]
  },
  {
   "cell_type": "code",
   "execution_count": 16,
   "metadata": {},
   "outputs": [
    {
     "data": {
      "image/png": "[encoded data removed]",
      "text/plain": [
       "<Figure size 432x288 with 1 Axes>"
      ]
     },
     "metadata": {
      "needs_background": "light"
     },
     "output_type": "display_data"
    },
    {
     "data": {
      "image/png": "[encoded data removed]",
      "text/plain": [
       "<Figure size 432x288 with 1 Axes>"
      ]
     },
     "metadata": {
      "needs_background": "light"
     },
     "output_type": "display_data"
    }
   ],
   "source": [
    "star_wars_males = males = star_wars[star_wars[\"Gender\"] == \"Male\"]\n",
    "star_wars_females = females = star_wars[star_wars[\"Gender\"] == \"Female\"]\n",
    "\n",
    "\n",
    "sums_males = star_wars_males[star_wars_males.columns[3:9]].sum()\n",
    "plt.bar(range(1, 7), sums_males)\n",
    "plt.xlabel(\"Movie #\")\n",
    "plt.ylabel('Total Respondants')\n",
    "plt.show()\n",
    "\n",
    "sums_females = star_wars_females[star_wars_females.columns[3:9]].sum()\n",
    "plt.bar(range(1, 7), sums_females)\n",
    "plt.xlabel(\"Movie #\")\n",
    "plt.ylabel('Total Respondants')\n",
    "plt.show()"
   ]
  },
  {
   "cell_type": "code",
   "execution_count": 17,
   "metadata": {},
   "outputs": [
    {
     "data": {
      "image/png": "[encoded data removed]",
      "text/plain": [
       "<Figure size 432x288 with 1 Axes>"
      ]
     },
     "metadata": {
      "needs_background": "light"
     },
     "output_type": "display_data"
    },
    {
     "data": {
      "image/png": "[encoded data removed]",
      "text/plain": [
       "<Figure size 432x288 with 1 Axes>"
      ]
     },
     "metadata": {
      "needs_background": "light"
     },
     "output_type": "display_data"
    }
   ],
   "source": [
    "means_males = star_wars_males[star_wars_males.columns[9:15]].mean()\n",
    "plt.bar(range(1,7), means_males)\n",
    "plt.xlabel(\"Movie #\")\n",
    "plt.ylabel('Average Ranking')\n",
    "plt.show()\n",
    "\n",
    "\n",
    "means_females = star_wars_females[star_wars_females.columns[9:15]].mean()\n",
    "plt.bar(range(1,7), means_females)\n",
    "plt.xlabel(\"Movie #\")\n",
    "plt.ylabel('Average Ranking')\n",
    "plt.show()"
   ]
  },
  {
   "cell_type": "markdown",
   "metadata": {},
   "source": [
    "The ranking is in reverse. That means, the lower the score, the better the result.\n",
    "<br>\n",
    "<br>\n",
    "The statistics about total audiences in each episode shows that after the episode 1, the number of audience in episode 2 and 3 decreased and the series started to regain the popularity in episode 4 and reached to the peak at episode 5. \n",
    "The statistics average rating also shows a similar trends. Audiences prefer the episode in later stage more than the previous. The trend is similar among both male and female respondents. At the same time, the episode 5 has the best ranking.  \n",
    "<br>\n",
    "<br>\n",
    "Hence, from the findings above, we can conclude that the episode 5 -  “The Empire Strikes Back” is the best of the bunch"
   ]
  },
  {
   "cell_type": "markdown",
   "metadata": {},
   "source": [
    "## Analysis - The degree of favourite in Star Wars characters"
   ]
  },
  {
   "cell_type": "markdown",
   "metadata": {},
   "source": [
    "It would also be interesting to know the popularity of characters. The detail are as follows: "
   ]
  },
  {
   "cell_type": "code",
   "execution_count": 18,
   "metadata": {},
   "outputs": [
    {
     "data": {
      "text/plain": [
       "Rating_Han Solo          4.671990\n",
       "Rating_Obi Wan Kenobi    4.632426\n",
       "Rating_Yoda              4.629902\n",
       "Rating_Luke Skywalker    4.580606\n",
       "Rating_R2 D2             4.569512\n",
       "dtype: float64"
      ]
     },
     "execution_count": 18,
     "metadata": {},
     "output_type": "execute_result"
    }
   ],
   "source": [
    "# Most favourable characters\n",
    "star_wars.iloc[:, 15:29].mean().sort_values(ascending=False).head(5)"
   ]
  },
  {
   "cell_type": "code",
   "execution_count": 19,
   "metadata": {},
   "outputs": [
    {
     "data": {
      "text/plain": [
       "Rating_Jar Jar Binks        2.780899\n",
       "Rating_Emperor Palpatine    3.071429\n",
       "Rating_Boba Fett            3.357353\n",
       "Rating_Darth Vader          3.479167\n",
       "Rating_Padme Amidala        3.604615\n",
       "dtype: float64"
      ]
     },
     "execution_count": 19,
     "metadata": {},
     "output_type": "execute_result"
    }
   ],
   "source": [
    "# Most unfavourable characters\n",
    "star_wars.iloc[:, 15:29].mean().sort_values(ascending=True).head(5)"
   ]
  },
  {
   "cell_type": "markdown",
   "metadata": {},
   "source": [
    "And for those unfavourable characters, since their mean score is close to the median, it would be interesting to know if the audiences have a strong feeling towrds them (extremely like or extremely hate) or most of them have the neutral feeling. \n",
    "<br>\n",
    "<br>\n",
    "To see the trend, we can use compute the standard deviation for the mean score of those characters:"
   ]
  },
  {
   "cell_type": "code",
   "execution_count": 20,
   "metadata": {},
   "outputs": [
    {
     "name": "stdout",
     "output_type": "stream",
     "text": [
      "Rating_Jar Jar Binks:1.433877938298674\n",
      "Rating_Emperor Palpatine:1.3193576092093016\n",
      "Rating_Boba Fett:1.1475550209930498\n",
      "Rating_Darth Vader:1.5355284589553408\n",
      "Rating_Padme Amidala:1.118127805847704\n"
     ]
    }
   ],
   "source": [
    "unfav_character = star_wars.iloc[:, 15:29].mean().sort_values(ascending=True).head(5).index\n",
    "unfav_character\n",
    "\n",
    "for x in unfav_character:\n",
    "    print (f\"{x}:{star_wars[x].std()}\")"
   ]
  },
  {
   "cell_type": "markdown",
   "metadata": {},
   "source": [
    "From the statistic above, we can see that the most favourable characters are Han Solo, Obi Wan Kenobi and Yoda. On the other hand, Jar Jar Binks, Emperor Palpatine and Boba Fett are the least favourable characters. \n",
    "<br>\n",
    "<br>\n",
    "And one interesting fact is, the standard deviation of the mean score of the most unfavourable characters are relativly high when compare to the mean score, that means the rating for them are extreme: Some respondents love them so much and some hate them a lot. "
   ]
  }
 ],
 "metadata": {
  "kernelspec": {
   "display_name": "Python 3",
   "language": "python",
   "name": "python3"
  },
  "language_info": {
   "codemirror_mode": {
    "name": "ipython",
    "version": 3
   },
   "file_extension": ".py",
   "mimetype": "text/x-python",
   "name": "python",
   "nbconvert_exporter": "python",
   "pygments_lexer": "ipython3",
   "version": "3.7.4"
  }
 },
 "nbformat": 4,
 "nbformat_minor": 2
}
